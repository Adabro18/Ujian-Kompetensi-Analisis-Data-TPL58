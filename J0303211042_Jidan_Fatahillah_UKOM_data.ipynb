{
  "cells": [
    {
      "cell_type": "markdown",
      "id": "da6edd53",
      "metadata": {
        "id": "da6edd53"
      },
      "source": [
        "# UJIAN KOMPETENSI DATA ANALIS SEMESTER GENAP TAHUN AKADEMIK 2023/2024\n",
        "# SEKOLAH VOKASI IPB\n",
        "---\n",
        "\n",
        "# ANALISIS DAN VISUALISASI DATA\n",
        "\n",
        "## Petunjuk:\n",
        "1. Pada ujian ini Anda diminta untuk menganalisis data **Most Subscribed 1000 Youtube Channels**.\n",
        "2. Gunakan notebook ini untuk menuliskan jawaban. **save as dengan nama file: NIM_NamaLengkap_UKOM-data.ipynb**\n",
        "3. Gunakan dataset **topSubscribed.csv**.\n",
        "4. Kumpulkan jawaban pada link yang tertera pada class.\n",
        "5. Bacalah doa sebelum dan sesudah mengerjakan.\n",
        "6. Semoga sukses."
      ]
    },
    {
      "cell_type": "markdown",
      "id": "11fa3321",
      "metadata": {
        "id": "11fa3321"
      },
      "source": [
        "## Persiapan Data\n",
        "\n",
        "Pada ujian ini, kita akan gunakan data **Most Subscribed 1000 Youtube Channels**. Data tersebut terdapat pada file `topSubscribed.csv` yg berada pada folder yang sama dengan file ini.\n",
        "\n",
        "File berisi data 1000 channel youtube yang memiliki subscriber terbanyak. Data terdiri atas enam series sebagai berikut:\n",
        "\n",
        "- `Youtube Channel` : Nama channel youtube\n",
        "- `Subscriber` : Jumlah subscriber\n",
        "- `Video Views` : banyaknya video dilihat\n",
        "- `Video Count` : jumlah video pada channel tersebut\n",
        "- `Category` : kategori channel youtube\n",
        "- `Started` : tahun dimulainya channel youtube"
      ]
    },
    {
      "cell_type": "markdown",
      "id": "15d374a0",
      "metadata": {
        "id": "15d374a0"
      },
      "source": [
        "Silakan import data `topSubscribed.csv` dan simpan ke dalam variabel **top**. Import library pandas dan matplotlib. Tampilkan 5 data teratas dari `top`."
      ]
    },
    {
      "cell_type": "code",
      "execution_count": 8,
      "id": "dd027fc5",
      "metadata": {
        "id": "dd027fc5",
        "outputId": "f1b5a027-229c-4ee8-cfbb-7673df82dda9",
        "colab": {
          "base_uri": "https://localhost:8080/"
        }
      },
      "outputs": [
        {
          "output_type": "stream",
          "name": "stdout",
          "text": [
            "              Youtube Channel  Subscribers      Video Views Video Count  \\\n",
            "0                    T-Series  234,000,000  212,900,271,553      18,515   \n",
            "1              YouTube Movies  161,000,000                0           0   \n",
            "2  Cocomelon - Nursery Rhymes  152,000,000  149,084,178,448         846   \n",
            "3                   SET India  150,000,000  137,828,094,104     103,200   \n",
            "4                     MrBeast  128,000,000   21,549,128,785         733   \n",
            "\n",
            "           Category  Started  \n",
            "0             Music     2006  \n",
            "1  Film & Animation     2015  \n",
            "2         Education     2006  \n",
            "3             Shows     2006  \n",
            "4     Entertainment     2012  \n"
          ]
        }
      ],
      "source": [
        "import pandas as pd\n",
        "import matplotlib.pyplot as plt\n",
        "\n",
        "# Memuat data dari file CSV ke dalam DataFrame\n",
        "top = pd.read_csv('topSubscribed.csv')\n",
        "\n",
        "# Menampilkan 5 data teratas\n",
        "print(top.head())\n"
      ]
    },
    {
      "cell_type": "markdown",
      "id": "297ad7f4",
      "metadata": {
        "id": "297ad7f4"
      },
      "source": [
        "*Anda* dapat melihat jumlah baris pada variabel `top` dengan menggunakan `shape`"
      ]
    },
    {
      "cell_type": "code",
      "execution_count": 9,
      "id": "7d270059",
      "metadata": {
        "id": "7d270059",
        "colab": {
          "base_uri": "https://localhost:8080/"
        },
        "outputId": "88782f4e-7992-463e-e18a-7a47f7738ea6"
      },
      "outputs": [
        {
          "output_type": "stream",
          "name": "stdout",
          "text": [
            "Jumlah baris: 1000\n",
            "Jumlah kolom: 6\n"
          ]
        }
      ],
      "source": [
        "# Melihat jumlah baris dan kolom\n",
        "num_rows, num_cols = top.shape\n",
        "\n",
        "print(f'Jumlah baris: {num_rows}')\n",
        "print(f'Jumlah kolom: {num_cols}')"
      ]
    },
    {
      "cell_type": "markdown",
      "id": "5cfde803",
      "metadata": {
        "id": "5cfde803"
      },
      "source": [
        "\n",
        "\n",
        "```\n",
        "# This is formatted as code\n",
        "```\n",
        "\n",
        "Mari kita tinjau lebih jauh tipe data pada variabel `top`."
      ]
    },
    {
      "cell_type": "code",
      "execution_count": 10,
      "id": "ee9dcc08",
      "metadata": {
        "id": "ee9dcc08",
        "colab": {
          "base_uri": "https://localhost:8080/"
        },
        "outputId": "fec70b71-4066-4fc2-96ea-1ae99729d991"
      },
      "outputs": [
        {
          "output_type": "stream",
          "name": "stdout",
          "text": [
            "(1000, 6)\n"
          ]
        }
      ],
      "source": [
        "print(top.shape)\n"
      ]
    },
    {
      "cell_type": "markdown",
      "id": "65df34f5",
      "metadata": {
        "id": "65df34f5"
      },
      "source": [
        "Dari hasil di atas, jika ada kolom yang tidak sesuai tipe datanya, maka Anda harus sesuaikan (ada 3 kolom numerik dan 1 kolom kategori). Apakah terjadi error? jika ya, tuliskan alasannya menurut Anda. Lalu tuliskan kode yang benar."
      ]
    },
    {
      "cell_type": "markdown",
      "id": "9a57b5ef",
      "metadata": {
        "id": "9a57b5ef"
      },
      "source": [
        "> **Alasannya:**\n",
        "\n",
        "\n",
        "Kolom Numerik: Jika terdapat karakter non-numerik pada kolom yang seharusnya numerik, fungsi pd.to_numeric dengan parameter errors='coerce' akan mengubah nilai yang tidak bisa dikonversi menjadi NaN (Not a Number).\n",
        "\n",
        "Kolom Kategori: Jika kolom kategori mengandung nilai yang tidak dikenali sebagai kategori, kita perlu memastikan bahwa semua nilai dalam kolom tersebut adalah valid."
      ]
    },
    {
      "cell_type": "code",
      "execution_count": 11,
      "id": "7aa3168f",
      "metadata": {
        "id": "7aa3168f",
        "colab": {
          "base_uri": "https://localhost:8080/"
        },
        "outputId": "c75f8288-c7a1-40a2-a716-69570673bdb8"
      },
      "outputs": [
        {
          "output_type": "stream",
          "name": "stdout",
          "text": [
            "Youtube Channel    object\n",
            "Subscribers        object\n",
            "Video Views        object\n",
            "Video Count        object\n",
            "Category           object\n",
            "Started             int64\n",
            "dtype: object\n"
          ]
        }
      ],
      "source": [
        "print(top.dtypes)\n"
      ]
    },
    {
      "cell_type": "code",
      "execution_count": null,
      "id": "621f1758",
      "metadata": {
        "id": "621f1758"
      },
      "outputs": [],
      "source": [
        "## tampilkan kembali tipe data top.\n",
        "## your code:\n"
      ]
    },
    {
      "cell_type": "markdown",
      "id": "99df41ce",
      "metadata": {
        "id": "99df41ce"
      },
      "source": [
        "## Pertanyaan\n",
        "\n",
        "Jawablah pertanyaan-pertanyaan berikut. Tuliskan kode program untuk membuktikan jawaban Anda."
      ]
    },
    {
      "cell_type": "markdown",
      "id": "0ba9700b",
      "metadata": {
        "id": "0ba9700b"
      },
      "source": [
        "1. Youtube channel manakah yang memiliki subscriber terbanyak?\n",
        "   - [X] T-Series\n",
        "   - [ ] YouTube Movies\n",
        "   - [ ] SET India\n",
        "   - [ ] MrBeast"
      ]
    },
    {
      "cell_type": "code",
      "execution_count": 24,
      "id": "1ad2cb8d",
      "metadata": {
        "id": "1ad2cb8d",
        "colab": {
          "base_uri": "https://localhost:8080/"
        },
        "outputId": "7e5a8407-0cbf-435f-b258-2d2ff08a8e38"
      },
      "outputs": [
        {
          "output_type": "stream",
          "name": "stdout",
          "text": [
            "              Youtube Channel  Subscribers      Video Views Video Count  \\\n",
            "0                    T-Series  234,000,000  212,900,271,553      18,515   \n",
            "1              YouTube Movies  161,000,000                0           0   \n",
            "2  Cocomelon - Nursery Rhymes  152,000,000  149,084,178,448         846   \n",
            "3                   SET India  150,000,000  137,828,094,104     103,200   \n",
            "4                     MrBeast  128,000,000   21,549,128,785         733   \n",
            "\n",
            "           Category  Started  \n",
            "0             Music     2006  \n",
            "1  Film & Animation     2015  \n",
            "2         Education     2006  \n",
            "3             Shows     2006  \n",
            "4     Entertainment     2012  \n"
          ]
        }
      ],
      "source": [
        "import pandas as pd\n",
        "\n",
        "# Load the data\n",
        "top = pd.read_csv('topSubscribed.csv')\n",
        "\n",
        "# Display the first few rows to verify the data\n",
        "print(top.head())\n",
        "\n"
      ]
    },
    {
      "cell_type": "markdown",
      "id": "d5f1d360",
      "metadata": {
        "id": "d5f1d360"
      },
      "source": [
        "2. Berapa jumlah Youtube channel yang baru mulai di tahun 2021?\n",
        "   - [ ] 30\n",
        "   - [ ] 15\n",
        "   - [X] 11\n",
        "   - [ ] 8"
      ]
    },
    {
      "cell_type": "code",
      "execution_count": 46,
      "id": "d3545ea1",
      "metadata": {
        "id": "d3545ea1",
        "colab": {
          "base_uri": "https://localhost:8080/"
        },
        "outputId": "b1a03039-7bda-4bd1-c97d-3f03fd6399f3"
      },
      "outputs": [
        {
          "output_type": "execute_result",
          "data": {
            "text/plain": [
              "11"
            ]
          },
          "metadata": {},
          "execution_count": 46
        }
      ],
      "source": [
        "import pandas as pd\n",
        "\n",
        "# Muat file CSV yang disediakan\n",
        "file_path = 'path_to_your_csv_file/topSubscribed.csv'\n",
        "top = pd.read_csv('topSubscribed.csv')\n",
        "\n",
        "# Tampilkan nama kolom untuk memeriksa kolom yang benar\n",
        "top.columns\n",
        "\n",
        "# Sesuaikan nama kolom jika ada spasi tambahan atau karakter yang berbeda\n",
        "channels_started_2021 = top[top['Started'] == 2021]  # Ubah 'Started' jika perlu\n",
        "\n",
        "# Hitung jumlah channel yang mulai pada tahun 2021\n",
        "num_channels_2021 = channels_started_2021.shape[0]\n",
        "num_channels_2021\n",
        "\n"
      ]
    },
    {
      "cell_type": "markdown",
      "id": "6269fc99",
      "metadata": {
        "id": "6269fc99"
      },
      "source": [
        "3. Jumlah youtube channel terbanyak tumbuh terjadi pada tahun **2014** yaitu sebanyak **120** channel."
      ]
    },
    {
      "cell_type": "code",
      "execution_count": 58,
      "id": "c8fff37e",
      "metadata": {
        "id": "c8fff37e",
        "colab": {
          "base_uri": "https://localhost:8080/"
        },
        "outputId": "c4e3cadc-f265-4122-bf5b-0c389e5bd200"
      },
      "outputs": [
        {
          "output_type": "stream",
          "name": "stdout",
          "text": [
            "Started\n",
            "1970      1\n",
            "2005     21\n",
            "2006     69\n",
            "2007     45\n",
            "2008     45\n",
            "2009     59\n",
            "2010     45\n",
            "2011     87\n",
            "2012     81\n",
            "2013     88\n",
            "2014    120\n",
            "2015     95\n",
            "2016     76\n",
            "2017     62\n",
            "2018     50\n",
            "2019     30\n",
            "2020     15\n",
            "2021     11\n",
            "Name: count, dtype: int64\n",
            "120\n"
          ]
        }
      ],
      "source": [
        "import pandas as pd\n",
        "\n",
        "# Muat file CSV yang disediakan\n",
        "file_path = 'topSubscribed.csv'\n",
        "top = pd.read_csv(file_path)\n",
        "\n",
        "\n",
        "\n",
        "channels_per_year = top['Started'].value_counts().sort_index()\n",
        "print(channels_per_year)\n",
        "\n",
        "# Jumlah channel yang dimulai pada tahun 2014\n",
        "channels_2014 = channels_per_year.loc[2014]\n",
        "print(channels_2014)\n",
        "\n"
      ]
    },
    {
      "cell_type": "markdown",
      "id": "73183151",
      "metadata": {
        "id": "73183151"
      },
      "source": [
        "4. Di `Category` `Gaming`, channel manakah yang memiliki subscriber terbanyak?\n",
        "   - [X] PewDiePie\n",
        "   - [ ] JuegaGerman\n",
        "   - [ ] Fernanfloo\n",
        "   - [ ] elrubiusOMG"
      ]
    },
    {
      "cell_type": "code",
      "execution_count": 63,
      "id": "31a38adf",
      "metadata": {
        "id": "31a38adf",
        "colab": {
          "base_uri": "https://localhost:8080/"
        },
        "outputId": "fa5c5df8-6875-4ef8-a4c7-d303bcaf4fa4"
      },
      "outputs": [
        {
          "output_type": "stream",
          "name": "stdout",
          "text": [
            "Index(['Youtube Channel', 'Subscribers', 'Video Views', 'Video Count',\n",
            "       'Category', 'Started'],\n",
            "      dtype='object')\n",
            "PewDiePie\n"
          ]
        }
      ],
      "source": [
        "import pandas as pd\n",
        "\n",
        "# Muat file CSV yang disediakan\n",
        "file_path = 'topSubscribed.csv'\n",
        "top = pd.read_csv(file_path)\n",
        "\n",
        "# Menghapus koma dan mengonversi ke tipe numerik\n",
        "top['Subscribers'] = pd.to_numeric(top['Subscribers'].str.replace(',', ''), errors='coerce')\n",
        "top['Video Views'] = pd.to_numeric(top['Video Views'].str.replace(',', ''), errors='coerce')\n",
        "top['Video Count'] = pd.to_numeric(top['Video Count'].str.replace(',', ''), errors='coerce')\n",
        "\n",
        "# Mengonversi kolom 'Category' menjadi tipe 'category'\n",
        "top['Category'] = top['Category'].astype('category')\n",
        "\n",
        "# Menampilkan nama kolom untuk memastikan kolom ada\n",
        "print(top.columns)\n",
        "\n",
        "# Filter data untuk kategori 'Gaming'\n",
        "gaming_channels = top[top['Category'] == 'Gaming']\n",
        "\n",
        "# Cari channel dengan jumlah subscriber terbanyak di kategori 'Gaming'\n",
        "top_gaming_channel = gaming_channels.loc[gaming_channels['Subscribers'].idxmax()]\n",
        "print(top_gaming_channel['Youtube Channel'])\n"
      ]
    },
    {
      "cell_type": "markdown",
      "id": "7ba8bbd1",
      "metadata": {
        "id": "7ba8bbd1"
      },
      "source": [
        "5. Nilai pusat data `Video Views` adalah...\n",
        "   - [ ] 9.994912e+09\n",
        "   - [ ] 1.300546e+10\n",
        "   - [X] 6.723360e+09\n",
        "   - [ ] 2.129003e+11"
      ]
    },
    {
      "cell_type": "code",
      "execution_count": 64,
      "id": "a6b38410",
      "metadata": {
        "id": "a6b38410",
        "colab": {
          "base_uri": "https://localhost:8080/"
        },
        "outputId": "18ab8243-78cd-4077-b194-bb7b01cdf413"
      },
      "outputs": [
        {
          "output_type": "stream",
          "name": "stdout",
          "text": [
            "Nilai median dari Video Views adalah: 6.723360159e+09\n"
          ]
        }
      ],
      "source": [
        "import pandas as pd\n",
        "\n",
        "# Muat file CSV yang disediakan\n",
        "file_path = 'topSubscribed.csv'\n",
        "top = pd.read_csv(file_path)\n",
        "\n",
        "# Menghapus koma dan mengonversi ke tipe numerik\n",
        "top['Video Views'] = pd.to_numeric(top['Video Views'].str.replace(',', ''), errors='coerce')\n",
        "\n",
        "# Hitung nilai median dari kolom 'Video Views'\n",
        "video_views_median = top['Video Views'].median()\n",
        "\n",
        "# Tampilkan nilai median\n",
        "print(f'Nilai median dari Video Views adalah: {video_views_median:.9e}')\n"
      ]
    },
    {
      "cell_type": "markdown",
      "id": "46d2c297",
      "metadata": {
        "id": "46d2c297"
      },
      "source": [
        "6. Kategori (Category) manakah yang sering dilihat (view) penonton? Gunakan `mean` untuk menghitung kisaran view dari tiap kategori.\n",
        "   - [X] Shows\n",
        "   - [ ] Trailers\n",
        "   - [ ] Education\n",
        "   - [ ] Sports"
      ]
    },
    {
      "cell_type": "code",
      "execution_count": 65,
      "id": "152ad159",
      "metadata": {
        "id": "152ad159",
        "colab": {
          "base_uri": "https://localhost:8080/"
        },
        "outputId": "3378132f-0c2b-49c8-dfe6-ed6466cdc95e"
      },
      "outputs": [
        {
          "output_type": "stream",
          "name": "stdout",
          "text": [
            "Category\n",
            "Shows                                                                           2.999205e+10\n",
            "Trailers                                                                        1.613509e+10\n",
            "Education                                                                       1.418033e+10\n",
            "Music                                                                           1.409645e+10\n",
            "Sports                                                                          1.283169e+10\n",
            "Film & Animation                                                                1.036087e+10\n",
            "News & Politics                                                                 9.359919e+09\n",
            "Entertainment                                                                   9.323448e+09\n",
            "People & Blogs                                                                  8.394943e+09\n",
            "Pets & Animals                                                                  7.991630e+09\n",
            "Autos & Vehicles                                                                7.666148e+09\n",
            "Gaming                                                                          7.142277e+09\n",
            "Movies                                                                          7.103285e+09\n",
            "Comedy                                                                          6.244004e+09\n",
            "https://us.youtubers.me/global/all/top-1000-most_subscribed-youtube-channels    5.994360e+09\n",
            "Nonprofits & Activism                                                           4.846880e+09\n",
            "Howto & Style                                                                   4.540776e+09\n",
            "Science & Technology                                                            3.666427e+09\n",
            "Travel & Events                                                                 2.955451e+09\n",
            "Name: Video Views, dtype: float64\n",
            "Kategori yang sering dilihat (view) penonton adalah: Shows\n"
          ]
        }
      ],
      "source": [
        "import pandas as pd\n",
        "\n",
        "# Muat file CSV yang disediakan\n",
        "file_path = 'topSubscribed.csv'\n",
        "top = pd.read_csv(file_path)\n",
        "\n",
        "# Menghapus koma dan mengonversi ke tipe numerik\n",
        "top['Video Views'] = pd.to_numeric(top['Video Views'].str.replace(',', ''), errors='coerce')\n",
        "\n",
        "# Menghitung rata-rata jumlah view per kategori\n",
        "category_mean_views = top.groupby('Category')['Video Views'].mean().sort_values(ascending=False)\n",
        "\n",
        "# Tampilkan rata-rata jumlah view per kategori\n",
        "print(category_mean_views)\n",
        "\n",
        "# Menampilkan kategori yang sering dilihat (view) penonton\n",
        "top_category = category_mean_views.idxmax()\n",
        "print(f'Kategori yang sering dilihat (view) penonton adalah: {top_category}')\n"
      ]
    },
    {
      "cell_type": "markdown",
      "id": "c72315e7",
      "metadata": {
        "id": "c72315e7"
      },
      "source": [
        "7. Kategori (Category) manakah yang tidak termasuk ke dalam 5 kategori dengan subscriber tertinggi?\n",
        "   - [ ] Entertainment\n",
        "   - [ ] Gaming\n",
        "   - [ ] Music\n",
        "   - [X] Sports"
      ]
    },
    {
      "cell_type": "code",
      "execution_count": 66,
      "id": "a52d9443",
      "metadata": {
        "scrolled": true,
        "id": "a52d9443",
        "colab": {
          "base_uri": "https://localhost:8080/"
        },
        "outputId": "a13d68cc-6455-4fc5-be21-017dc42a844f"
      },
      "outputs": [
        {
          "output_type": "stream",
          "name": "stdout",
          "text": [
            "Category\n",
            "Music                                                                           5224800000\n",
            "Entertainment                                                                   4768200000\n",
            "People & Blogs                                                                  2558500000\n",
            "Gaming                                                                          1873900000\n",
            "Film & Animation                                                                1275200000\n",
            "Comedy                                                                          1256400000\n",
            "Education                                                                       1133600000\n",
            "https://us.youtubers.me/global/all/top-1000-most_subscribed-youtube-channels     793400000\n",
            "Howto & Style                                                                    782300000\n",
            "News & Politics                                                                  519300000\n",
            "Shows                                                                            516700000\n",
            "Science & Technology                                                             312000000\n",
            "Sports                                                                           273600000\n",
            "Pets & Animals                                                                    87900000\n",
            "Trailers                                                                          74700000\n",
            "Nonprofits & Activism                                                             51700000\n",
            "Movies                                                                            48000000\n",
            "Autos & Vehicles                                                                  18900000\n",
            "Travel & Events                                                                   12300000\n",
            "Name: Subscribers, dtype: int64\n",
            "5 kategori dengan subscribers tertinggi:\n",
            "Category\n",
            "Music               5224800000\n",
            "Entertainment       4768200000\n",
            "People & Blogs      2558500000\n",
            "Gaming              1873900000\n",
            "Film & Animation    1275200000\n",
            "Name: Subscribers, dtype: int64\n",
            "Kategori Sports tidak termasuk dalam 5 kategori dengan subscriber tertinggi.\n"
          ]
        }
      ],
      "source": [
        "import pandas as pd\n",
        "\n",
        "# Muat file CSV yang disediakan\n",
        "file_path = 'topSubscribed.csv'\n",
        "top = pd.read_csv(file_path)\n",
        "\n",
        "# Menghapus koma dan mengonversi ke tipe numerik\n",
        "top['Subscribers'] = pd.to_numeric(top['Subscribers'].str.replace(',', ''), errors='coerce')\n",
        "\n",
        "# Menghitung total subscribers per kategori\n",
        "category_subscribers_sum = top.groupby('Category')['Subscribers'].sum().sort_values(ascending=False)\n",
        "\n",
        "# Tampilkan total subscribers per kategori\n",
        "print(category_subscribers_sum)\n",
        "\n",
        "# Menampilkan 5 kategori teratas berdasarkan jumlah subscribers\n",
        "top_5_categories = category_subscribers_sum.head(5)\n",
        "print(f'5 kategori dengan subscribers tertinggi:\\n{top_5_categories}')\n",
        "\n",
        "# Menentukan kategori yang diberikan apakah termasuk top 5 atau tidak\n",
        "categories_to_check = ['Entertainment', 'Gaming', 'Music', 'Sports']\n",
        "for category in categories_to_check:\n",
        "    if category not in top_5_categories.index:\n",
        "        print(f'Kategori {category} tidak termasuk dalam 5 kategori dengan subscriber tertinggi.')\n"
      ]
    },
    {
      "cell_type": "markdown",
      "id": "b99c37fc",
      "metadata": {
        "id": "b99c37fc"
      },
      "source": [
        "8. Diantara 5 channel dengan Subscribers terbanyak, channel manakah yang memiliki jumlah video paling banyak?\n",
        "   - [ ] T-Series\n",
        "   - [X] SET India\n",
        "   - [ ] MrBeast\n",
        "   - [ ] YouTube Movies"
      ]
    },
    {
      "cell_type": "code",
      "execution_count": 67,
      "id": "453c5e39",
      "metadata": {
        "id": "453c5e39",
        "colab": {
          "base_uri": "https://localhost:8080/"
        },
        "outputId": "aa96c545-3368-48b6-a853-74d18b17fe19"
      },
      "outputs": [
        {
          "output_type": "stream",
          "name": "stdout",
          "text": [
            "SET India\n"
          ]
        }
      ],
      "source": [
        "import pandas as pd\n",
        "\n",
        "# Muat file CSV yang disediakan\n",
        "file_path = 'topSubscribed.csv'\n",
        "top = pd.read_csv(file_path)\n",
        "\n",
        "# Menghapus koma dan mengonversi ke tipe numerik\n",
        "top['Subscribers'] = pd.to_numeric(top['Subscribers'].str.replace(',', ''), errors='coerce')\n",
        "top['Video Count'] = pd.to_numeric(top['Video Count'].str.replace(',', ''), errors='coerce')\n",
        "\n",
        "# Temukan 5 channel dengan subscribers terbanyak\n",
        "top_5_channels = top.nlargest(5, 'Subscribers')\n",
        "\n",
        "# Identifikasi channel dengan jumlah video terbanyak di antara 5 channel teratas\n",
        "top_video_channel = top_5_channels.loc[top_5_channels['Video Count'].idxmax()]\n",
        "print(top_video_channel['Youtube Channel'])\n"
      ]
    },
    {
      "cell_type": "markdown",
      "id": "f3a9e5ca",
      "metadata": {
        "id": "f3a9e5ca"
      },
      "source": [
        "9. Berdasarkan data pada `top`, buatlah visualisasi yang sesuai untuk melihat insight tertentu (menurut Anda). Silakan gunakan fungsi agregat jika diperlukan."
      ]
    },
    {
      "cell_type": "code",
      "execution_count": 74,
      "id": "8ef3e9b7",
      "metadata": {
        "id": "8ef3e9b7",
        "colab": {
          "base_uri": "https://localhost:8080/",
          "height": 1000
        },
        "outputId": "e31dccb2-dd7f-4e69-efb0-fdc4d8608820"
      },
      "outputs": [
        {
          "output_type": "stream",
          "name": "stdout",
          "text": [
            "Youtube Channel    object\n",
            "Subscribers         int64\n",
            "Video Views         int64\n",
            "Video Count         int64\n",
            "Category           object\n",
            "Started             int64\n",
            "dtype: object\n"
          ]
        },
        {
          "output_type": "stream",
          "name": "stderr",
          "text": [
            "<ipython-input-74-fabd8a2880a1>:22: FutureWarning: \n",
            "\n",
            "Passing `palette` without assigning `hue` is deprecated and will be removed in v0.14.0. Assign the `x` variable to `hue` and set `legend=False` for the same effect.\n",
            "\n",
            "  sns.countplot(data=data, x='Category', order=data['Category'].value_counts().index, palette='viridis')\n"
          ]
        },
        {
          "output_type": "display_data",
          "data": {
            "text/plain": [
              "<Figure size 1200x600 with 1 Axes>"
            ],
            "image/png": "[encoded data removed]"
          },
          "metadata": {}
        },
        {
          "output_type": "display_data",
          "data": {
            "text/plain": [
              "<Figure size 1200x600 with 1 Axes>"
            ],
            "image/png": "[encoded data removed]"
          },
          "metadata": {}
        },
        {
          "output_type": "display_data",
          "data": {
            "text/plain": [
              "<Figure size 1000x600 with 1 Axes>"
            ],
            "image/png": "[encoded data removed]"
          },
          "metadata": {}
        },
        {
          "output_type": "display_data",
          "data": {
            "text/plain": [
              "<Figure size 1200x600 with 1 Axes>"
            ],
            "image/png": "[encoded data removed]"
          },
          "metadata": {}
        }
      ],
      "source": [
        "import matplotlib.pyplot as plt\n",
        "import seaborn as sns\n",
        "import pandas as pd # Import pandas to work with DataFrames\n",
        "\n",
        "# Convert the dictionary to a DataFrame\n",
        "data = pd.DataFrame(data)\n",
        "\n",
        "# Check the data types of your columns\n",
        "print(data.dtypes)\n",
        "\n",
        "# Preprocessing the data for visualization\n",
        "# Convert Subscribers and Video Views to numeric values if they are strings\n",
        "if data['Subscribers'].dtype == object: # Check if the column is of object type (often representing strings)\n",
        "    data['Subscribers'] = data['Subscribers'].str.replace(',', '').astype(int)\n",
        "if data['Video Views'].dtype == object:\n",
        "    data['Video Views'] = data['Video Views'].str.replace(',', '').astype(int)\n",
        "if data['Video Count'].dtype == object:\n",
        "    data['Video Count'] = data['Video Count'].str.replace(',', '').astype(int)\n",
        "\n",
        "# 1. Distribusi Kategori Channel\n",
        "plt.figure(figsize=(12, 6))\n",
        "sns.countplot(data=data, x='Category', order=data['Category'].value_counts().index, palette='viridis')\n",
        "plt.xticks(rotation=45, ha='right')\n",
        "plt.title('Distribusi Kategori Channel')\n",
        "plt.xlabel('Kategori')\n",
        "plt.ylabel('Jumlah Channel')\n",
        "plt.show()\n",
        "\n",
        "# 2. Jumlah Subscriber Terbanyak per Kategori\n",
        "category_subscribers = data.groupby('Category')['Subscribers'].sum().sort_values(ascending=False)\n",
        "\n",
        "plt.figure(figsize=(12, 6))\n",
        "category_subscribers.plot(kind='bar', color='teal')\n",
        "plt.title('Jumlah Subscriber Terbanyak per Kategori')\n",
        "plt.xlabel('Kategori')\n",
        "plt.ylabel('Jumlah Subscriber')\n",
        "plt.xticks(rotation=45, ha='right')\n",
        "plt.show()\n",
        "\n",
        "# 3. Perbandingan Jumlah Video Views dan Subscriber\n",
        "plt.figure(figsize=(10, 6))\n",
        "sns.scatterplot(data=data, x='Subscribers', y='Video Views', hue='Category', palette='viridis', alpha=0.7)\n",
        "plt.title('Perbandingan Jumlah Video Views dan Subscriber')\n",
        "plt.xlabel('Jumlah Subscriber')\n",
        "plt.ylabel('Jumlah Video Views')\n",
        "plt.legend(bbox_to_anchor=(1.05, 1), loc='upper left')\n",
        "plt.xscale('log')\n",
        "plt.yscale('log')\n",
        "plt.show()\n",
        "\n",
        "# 4. Pertumbuhan Channel Berdasarkan Tahun Mulai\n",
        "plt.figure(figsize=(12, 6))\n",
        "sns.histplot(data=data, x='Started', bins=range(2005, 2024), color='purple')\n",
        "plt.title('Pertumbuhan Channel Berdasarkan Tahun Mulai')\n",
        "plt.xlabel('Tahun Mulai')\n",
        "plt.ylabel('Jumlah Channel')\n",
        "plt.show()"
      ]
    },
    {
      "cell_type": "markdown",
      "id": "3805102d",
      "metadata": {
        "id": "3805102d"
      },
      "source": [
        "\n",
        "\n",
        "```\n",
        "# This is formatted as code\n",
        "```\n",
        "\n",
        "10. Dari visualisasi pada soal no.9, tuliskan insight yang dapat Anda ambil."
      ]
    },
    {
      "cell_type": "markdown",
      "id": "00cade45",
      "metadata": {
        "id": "00cade45"
      },
      "source": [
        "***Insight Anda:***\n",
        "\n"
      ]
    },
    {
      "cell_type": "markdown",
      "source": [
        "Dari visualisasi pada soal nomor 9, berikut adalah beberapa insight yang dapat diambil:\n",
        "\n",
        "Distribusi Kategori Channel:\n",
        "\n",
        "Beberapa kategori channel mendominasi dalam jumlah dibandingkan kategori lainnya.\n",
        "Kategori-kategori tertentu mungkin lebih populer atau lebih mudah untuk dihasilkan konten dibandingkan yang lain.\n",
        "Jumlah Subscriber Terbanyak per Kategori:\n",
        "\n",
        "Beberapa kategori channel memiliki jumlah subscriber yang jauh lebih banyak daripada yang lain.\n",
        "Kategori-kategori teratas ini mungkin mencerminkan tren populer dan topik yang menarik minat audiens dalam skala besar.\n",
        "Kategori yang paling banyak subscribernya kemungkinan memiliki konten yang sangat diminati atau berkualitas tinggi.\n",
        "Perbandingan Jumlah Video Views dan Subscriber:\n",
        "\n",
        "Terdapat hubungan positif antara jumlah subscriber dan jumlah video views, yang berarti semakin banyak subscriber, semakin banyak video views yang diperoleh.\n",
        "Beberapa kategori memiliki distribusi subscriber dan video views yang lebih merata, sementara kategori lain mungkin lebih terkonsentrasi pada beberapa channel besar.\n",
        "Skala logaritmik digunakan untuk menangkap rentang data yang luas, menunjukkan adanya perbedaan yang signifikan dalam skala subscriber dan video views antar channel.\n",
        "Pertumbuhan Channel Berdasarkan Tahun Mulai:\n",
        "\n",
        "Ada tren pertumbuhan channel yang meningkat dari tahun ke tahun.\n",
        "Mungkin terdapat lonjakan tertentu pada beberapa tahun yang dapat dikaitkan dengan perubahan besar dalam platform YouTube, seperti perbaikan algoritma, fitur baru, atau tren viral tertentu.\n",
        "Data ini dapat membantu memahami bagaimana ekosistem YouTube telah berkembang seiring waktu.\n",
        "Secara keseluruhan, visualisasi ini memberikan gambaran yang komprehensif mengenai kategori, popularitas, dan pertumbuhan channel YouTube. Kategori yang dominan dengan banyak subscriber dan video views dapat menginspirasi calon YouTuber dalam memilih topik konten mereka. Tren pertumbuhan menunjukkan potensi ekspansi dan perubahan dalam lanskap YouTube dari waktu ke waktu."
      ],
      "metadata": {
        "id": "0UKzU8z2t6bf"
      },
      "id": "0UKzU8z2t6bf"
    },
    {
      "cell_type": "markdown",
      "id": "2ef36f98",
      "metadata": {
        "id": "2ef36f98"
      },
      "source": [
        "---"
      ]
    },
    {
      "cell_type": "code",
      "source": [],
      "metadata": {
        "id": "zKExnOMTtrJ9"
      },
      "id": "zKExnOMTtrJ9",
      "execution_count": null,
      "outputs": []
    }
  ],
  "metadata": {
    "kernelspec": {
      "display_name": "phoenix_da",
      "language": "python",
      "name": "phoenix_da"
    },
    "language_info": {
      "codemirror_mode": {
        "name": "ipython",
        "version": 3
      },
      "file_extension": ".py",
      "mimetype": "text/x-python",
      "name": "python",
      "nbconvert_exporter": "python",
      "pygments_lexer": "ipython3",
      "version": "3.10.9"
    },
    "toc": {
      "base_numbering": 1,
      "nav_menu": {},
      "number_sections": true,
      "sideBar": true,
      "skip_h1_title": false,
      "title_cell": "Table of Contents",
      "title_sidebar": "Contents",
      "toc_cell": false,
      "toc_position": {},
      "toc_section_display": true,
      "toc_window_display": false
    },
    "varInspector": {
      "cols": {
        "lenName": 16,
        "lenType": 16,
        "lenVar": 40
      },
      "kernels_config": {
        "python": {
          "delete_cmd_postfix": "",
          "delete_cmd_prefix": "del ",
          "library": "var_list.py",
          "varRefreshCmd": "print(var_dic_list())"
        },
        "r": {
          "delete_cmd_postfix": ") ",
          "delete_cmd_prefix": "rm(",
          "library": "var_list.r",
          "varRefreshCmd": "cat(var_dic_list()) "
        }
      },
      "types_to_exclude": [
        "module",
        "function",
        "builtin_function_or_method",
        "instance",
        "_Feature"
      ],
      "window_display": false
    },
    "colab": {
      "provenance": []
    }
  },
  "nbformat": 4,
  "nbformat_minor": 5
}